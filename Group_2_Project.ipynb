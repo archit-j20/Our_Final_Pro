{
 "cells": [
  {
   "cell_type": "code",
   "execution_count": null,
   "metadata": {},
   "outputs": [],
   "source": [
    "# importing the libraries\n",
    "import tweepy\n",
    "import configparser\n",
    "from textblob import TextBlob\n",
    "from wordcloud import WordCloud\n",
    "import pandas as pd\n",
    "import re\n",
    "import matplotlib.pyplot as plt\n",
    "plt.style.use('fivethirtyeight')"
   ]
  },
  {
   "cell_type": "code",
   "execution_count": null,
   "metadata": {},
   "outputs": [],
   "source": [
    "# Initialising credentials for authorization\n",
    "\n",
    "config = configparser.ConfigParser()\n",
    "config.read('config.ini')\n",
    "\n",
    "consumer_key = config['twitter']['consumer_key']\n",
    "consumer_secret = config['twitter']['consumer_secret']\n",
    "access_token = config['twitter']['access_token']\n",
    "access_token_secret = config['twitter']['access_token_secret']"
   ]
  },
  {
   "cell_type": "code",
   "execution_count": null,
   "metadata": {},
   "outputs": [],
   "source": [
    "# setting the api \n",
    "try:\n",
    "    # authorizing api \n",
    "    auth = tweepy.OAuthHandler(consumer_key , consumer_secret)\n",
    "\n",
    "    # setting access tokens\n",
    "    auth.set_access_token(access_token , access_token_secret)\n",
    "\n",
    "    # create api object\n",
    "    api = tweepy.API(auth , wait_on_rate_limit = True)\n",
    "\n",
    "except:\n",
    "    print(\"Authorization Failed...\")    "
   ]
  },
  {
   "cell_type": "code",
   "execution_count": null,
   "metadata": {},
   "outputs": [],
   "source": [
    "#Extracting the tweets from a user\n",
    "#name = input(\"Enter the username of person : \")\n",
    "keyword = input(\"Enter the keyword or hash or userhandle : \")\n",
    "limit = int(input(\"Enter the number of tweets to be extracted : \"))\n",
    "tweets = tweepy.Cursor(api.search_tweets,q = keyword , lang = 'en',count = 100 ,\n",
    "tweet_mode = 'extended').items(limit)"
   ]
  },
  {
   "cell_type": "code",
   "execution_count": null,
   "metadata": {},
   "outputs": [],
   "source": [
    "# Creating a dataframe\n",
    "data =[]\n",
    "for tweet in tweets:\n",
    "    data.append([tweet.user.screen_name,tweet.full_text])\n",
    "\n",
    "dafa = pd.DataFrame(data,columns = ['users','tweets'])\n",
    "\n",
    "dafa.head"
   ]
  },
  {
   "cell_type": "code",
   "execution_count": null,
   "metadata": {},
   "outputs": [],
   "source": [
    "# Function for Cleaning the tweets \n",
    "def tweets_cleaner(text):\n",
    "    text = re.sub(r'@[A-za-z0-9]+','',text)\n",
    "    text = re.sub(r'#','',text)\n",
    "    text = re.sub(r'RT[\\s]+','',text)\n",
    "    text = re.sub(r'https?:\\/\\/\\s+','',text)\n",
    "    text = text.lower()\n",
    "    return text\n"
   ]
  },
  {
   "cell_type": "code",
   "execution_count": null,
   "metadata": {},
   "outputs": [],
   "source": [
    "# Create a clean tweets string\n",
    "dafa['tweets'] = dafa['tweets'].apply(tweets_cleaner)\n",
    "\n",
    "#Display cleaned tweets\n",
    "dafa.head"
   ]
  },
  {
   "cell_type": "code",
   "execution_count": null,
   "metadata": {},
   "outputs": [],
   "source": [
    "# Creating subjectivity and polarity of tweet\n",
    "def getsubjectivity(text):\n",
    "    return TextBlob(text).sentiment.subjectivity\n",
    "\n",
    "def getpolarity(text):\n",
    "    return TextBlob(text).sentiment.polarity\n",
    "\n",
    "dafa['subjectivity'] = dafa['tweets'].apply(getsubjectivity)\n",
    "dafa['polarity'] = dafa['tweets'].apply(getpolarity)\n",
    "\n",
    "dafa"
   ]
  },
  {
   "cell_type": "code",
   "execution_count": null,
   "metadata": {},
   "outputs": [],
   "source": [
    "# creating word cloud\n",
    "allwords = ' '.join(twts for twts in dafa['tweets'])\n",
    "wordCloud = WordCloud(width = 500 , height = 300 , random_state = 21 , max_font_size = 110).generate(allwords)\n",
    "\n",
    "plt.imshow(wordCloud , interpolation = 'bilinear')\n",
    "plt.axis('off')\n",
    "plt.show()"
   ]
  },
  {
   "cell_type": "code",
   "execution_count": null,
   "metadata": {},
   "outputs": [],
   "source": [
    "# Defining analysis on the basis of polarity\n",
    "def getanalysis(score):\n",
    "    if score > 0:\n",
    "        return 'Positive'\n",
    "    elif score < 0:\n",
    "        return 'Negative'\n",
    "    else:\n",
    "        return 'Neutral'    \n",
    "\n",
    "dafa['Analysis'] = dafa['polarity'].apply(getanalysis)\n",
    "dafa"
   ]
  },
  {
   "cell_type": "code",
   "execution_count": null,
   "metadata": {},
   "outputs": [],
   "source": [
    "# Creating a sorted dataframe\n",
    "sorteddafa = dafa.sort_values(by=['polarity'])"
   ]
  },
  {
   "cell_type": "code",
   "execution_count": null,
   "metadata": {},
   "outputs": [],
   "source": [
    "#printing +ve , -ve , neutral tweets seperately\n",
    "def positweets():\n",
    "    j = 1\n",
    "    for i in range(0 , sorteddafa.shape[0]):\n",
    "        if (sorteddafa['Analysis'][i] == 'Positive'):\n",
    "            print(str(j) + ') ' + sorteddafa['tweets'][i])\n",
    "            print()\n",
    "            j = j + 1\n",
    "\n",
    "def negtweets():\n",
    "    j = 1\n",
    "    for i in range(0 , sorteddafa.shape[0]):\n",
    "        if (sorteddafa['Analysis'][i] == 'Negative'):\n",
    "            print(str(j) + ') ' + sorteddafa['tweets'][i])\n",
    "            print()\n",
    "            j = j + 1\n",
    "\n",
    "def neutweets():\n",
    "    j = 1\n",
    "    for i in range(0 , sorteddafa.shape[0]):\n",
    "        if (sorteddafa['Analysis'][i] == 'Neutral'):\n",
    "            print(str(j) + ') ' + sorteddafa['tweets'][i])\n",
    "            print()\n",
    "            j = j + 1    "
   ]
  },
  {
   "cell_type": "code",
   "execution_count": null,
   "metadata": {},
   "outputs": [],
   "source": [
    "#plot polarity and subjectivity\n",
    "plt.figure(figsize=(8,6))\n",
    "for i in range(0,dafa.shape[0]):\n",
    "    plt.scatter(dafa['polarity'][i] , dafa['subjectivity'][i],color='Blue')\n",
    "plt.title('Sentiment Analysis') \n",
    "plt.xlabel('polarity')\n",
    "plt.ylabel(\"subjectivity\") \n",
    "plt.show()  "
   ]
  },
  {
   "cell_type": "code",
   "execution_count": null,
   "metadata": {},
   "outputs": [],
   "source": [
    "# get percent of possitive negative and neutral tweets \n",
    "\n",
    "def pospercent():\n",
    "    ptweets = dafa[dafa.Analysis == 'Positive']\n",
    "    ptweets = ptweets['tweets'] \n",
    "    print(round((ptweets.shape[0] / dafa.shape[0]) * 100 , 1))\n",
    "\n",
    "def negpercent():\n",
    "    ptweets = dafa[dafa.Analysis == 'Negative']\n",
    "    ptweets = ptweets['tweets'] \n",
    "    print(round((ptweets.shape[0] / dafa.shape[0]) * 100 , 1)) \n",
    "\n",
    "def neupercent():\n",
    "    ptweets = dafa[dafa.Analysis == 'Neutral']\n",
    "    ptweets = ptweets['tweets'] \n",
    "    print(round((ptweets.shape[0] / dafa.shape[0]) * 100 , 1))  \n",
    "\n",
    "pospercent()\n",
    "negpercent()\n",
    "neupercent()         "
   ]
  },
  {
   "cell_type": "code",
   "execution_count": null,
   "metadata": {},
   "outputs": [],
   "source": [
    "#show the value count\n",
    "dafa['Analysis'].value_counts()"
   ]
  },
  {
   "cell_type": "code",
   "execution_count": null,
   "metadata": {},
   "outputs": [],
   "source": [
    "#plot and visualize the count\n",
    "plt.title('Sentiment Analysis')\n",
    "plt.xlabel('Sentiment')\n",
    "plt.ylabel('count')\n",
    "dafa['Analysis'].value_counts().plot(kind = 'bar')\n",
    "plt.show()"
   ]
  }
 ],
 "metadata": {
  "interpreter": {
   "hash": "916dbcbb3f70747c44a77c7bcd40155683ae19c65e1c03b4aa3499c5328201f1"
  },
  "kernelspec": {
   "display_name": "Python 3.8.10 64-bit",
   "language": "python",
   "name": "python3"
  },
  "language_info": {
   "codemirror_mode": {
    "name": "ipython",
    "version": 3
   },
   "file_extension": ".py",
   "mimetype": "text/x-python",
   "name": "python",
   "nbconvert_exporter": "python",
   "pygments_lexer": "ipython3",
   "version": "3.8.10"
  },
  "orig_nbformat": 4
 },
 "nbformat": 4,
 "nbformat_minor": 2
}
